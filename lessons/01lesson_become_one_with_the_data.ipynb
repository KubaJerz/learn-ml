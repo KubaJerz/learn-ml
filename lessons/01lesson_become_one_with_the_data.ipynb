{
 "cells": [
  {
   "cell_type": "code",
   "execution_count": 28,
   "metadata": {},
   "outputs": [],
   "source": [
    "import numpy as np\n",
    "from sklearn.model_selection import train_test_split\n",
    "from sklearn.metrics import ConfusionMatrixDisplay, classification_report\n",
    "from sklearn.preprocessing import MinMaxScaler\n",
    "from torch import nn\n",
    "import torch\n",
    "from tqdm import tqdm\n",
    "import matplotlib.pyplot as plt\n",
    "import seaborn as sns\n",
    "import pandas as pd"
   ]
  },
  {
   "cell_type": "markdown",
   "metadata": {},
   "source": [
    "# 🚀 Welcome to Notebook 01! 🚀\n",
    "\n",
    "In this notebook, we will take the housing data that we previously overfitted and now see if we can properly learn and generalize from it. 📊✨\n",
    "\n",
    "## 🏠 Our Housing Data Features 🏠\n",
    "- **in_sf**: 🌉 Is the house in San Francisco (SF) or not\n",
    "- **beds**: 🛏 Number of bedrooms\n",
    "- **bath**: 🛁 Number of bathrooms\n",
    "- **price**: 💲 Price of the house\n",
    "- **year_built**: 🏗 Year the house was built\n",
    "- **sqft**: 📏 Square footage of the house\n",
    "- **price_per_sqft**: 💰 Price per square foot\n",
    "- **elevation**: 🌄 Elevation of the house\n",
    "\n",
    "Let's dive in and explore how we can improve our model's performance! 🚀📈\n"
   ]
  },
  {
   "cell_type": "code",
   "execution_count": 10,
   "metadata": {},
   "outputs": [
    {
     "name": "stdout",
     "output_type": "stream",
     "text": [
      "['in_sf', 'beds', 'bath', 'price', 'year_built', 'sqft', 'price_per_sqft', 'elevation']\n"
     ]
    }
   ],
   "source": [
    "#get data labels aka the first row \n",
    "with open('../data/sf_vs_nyc_house_data.csv', mode='r') as f:\n",
    "    lables = f.readline()\n",
    "\n",
    "lables = lables[:-1].split(sep=',')\n",
    "print(lables)\n",
    "\n",
    "df = pd.read_csv('../data/sf_vs_nyc_house_data.csv', skiprows=1, names=lables)"
   ]
  },
  {
   "cell_type": "code",
   "execution_count": 11,
   "metadata": {},
   "outputs": [
    {
     "data": {
      "text/html": [
       "<div>\n",
       "<style scoped>\n",
       "    .dataframe tbody tr th:only-of-type {\n",
       "        vertical-align: middle;\n",
       "    }\n",
       "\n",
       "    .dataframe tbody tr th {\n",
       "        vertical-align: top;\n",
       "    }\n",
       "\n",
       "    .dataframe thead th {\n",
       "        text-align: right;\n",
       "    }\n",
       "</style>\n",
       "<table border=\"1\" class=\"dataframe\">\n",
       "  <thead>\n",
       "    <tr style=\"text-align: right;\">\n",
       "      <th></th>\n",
       "      <th>in_sf</th>\n",
       "      <th>beds</th>\n",
       "      <th>bath</th>\n",
       "      <th>price</th>\n",
       "      <th>year_built</th>\n",
       "      <th>sqft</th>\n",
       "      <th>price_per_sqft</th>\n",
       "      <th>elevation</th>\n",
       "    </tr>\n",
       "  </thead>\n",
       "  <tbody>\n",
       "    <tr>\n",
       "      <th>0</th>\n",
       "      <td>0</td>\n",
       "      <td>2.0</td>\n",
       "      <td>1.0</td>\n",
       "      <td>999000</td>\n",
       "      <td>1960</td>\n",
       "      <td>1000</td>\n",
       "      <td>999</td>\n",
       "      <td>10</td>\n",
       "    </tr>\n",
       "    <tr>\n",
       "      <th>1</th>\n",
       "      <td>0</td>\n",
       "      <td>2.0</td>\n",
       "      <td>2.0</td>\n",
       "      <td>2750000</td>\n",
       "      <td>2006</td>\n",
       "      <td>1418</td>\n",
       "      <td>1939</td>\n",
       "      <td>0</td>\n",
       "    </tr>\n",
       "    <tr>\n",
       "      <th>2</th>\n",
       "      <td>0</td>\n",
       "      <td>2.0</td>\n",
       "      <td>2.0</td>\n",
       "      <td>1350000</td>\n",
       "      <td>1900</td>\n",
       "      <td>2150</td>\n",
       "      <td>628</td>\n",
       "      <td>9</td>\n",
       "    </tr>\n",
       "    <tr>\n",
       "      <th>3</th>\n",
       "      <td>0</td>\n",
       "      <td>1.0</td>\n",
       "      <td>1.0</td>\n",
       "      <td>629000</td>\n",
       "      <td>1903</td>\n",
       "      <td>500</td>\n",
       "      <td>1258</td>\n",
       "      <td>9</td>\n",
       "    </tr>\n",
       "    <tr>\n",
       "      <th>4</th>\n",
       "      <td>0</td>\n",
       "      <td>0.0</td>\n",
       "      <td>1.0</td>\n",
       "      <td>439000</td>\n",
       "      <td>1930</td>\n",
       "      <td>500</td>\n",
       "      <td>878</td>\n",
       "      <td>10</td>\n",
       "    </tr>\n",
       "    <tr>\n",
       "      <th>...</th>\n",
       "      <td>...</td>\n",
       "      <td>...</td>\n",
       "      <td>...</td>\n",
       "      <td>...</td>\n",
       "      <td>...</td>\n",
       "      <td>...</td>\n",
       "      <td>...</td>\n",
       "      <td>...</td>\n",
       "    </tr>\n",
       "    <tr>\n",
       "      <th>487</th>\n",
       "      <td>1</td>\n",
       "      <td>5.0</td>\n",
       "      <td>2.5</td>\n",
       "      <td>1800000</td>\n",
       "      <td>1890</td>\n",
       "      <td>3073</td>\n",
       "      <td>586</td>\n",
       "      <td>76</td>\n",
       "    </tr>\n",
       "    <tr>\n",
       "      <th>488</th>\n",
       "      <td>1</td>\n",
       "      <td>2.0</td>\n",
       "      <td>1.0</td>\n",
       "      <td>695000</td>\n",
       "      <td>1923</td>\n",
       "      <td>1045</td>\n",
       "      <td>665</td>\n",
       "      <td>106</td>\n",
       "    </tr>\n",
       "    <tr>\n",
       "      <th>489</th>\n",
       "      <td>1</td>\n",
       "      <td>3.0</td>\n",
       "      <td>2.0</td>\n",
       "      <td>1650000</td>\n",
       "      <td>1922</td>\n",
       "      <td>1483</td>\n",
       "      <td>1113</td>\n",
       "      <td>106</td>\n",
       "    </tr>\n",
       "    <tr>\n",
       "      <th>490</th>\n",
       "      <td>1</td>\n",
       "      <td>1.0</td>\n",
       "      <td>1.0</td>\n",
       "      <td>649000</td>\n",
       "      <td>1983</td>\n",
       "      <td>850</td>\n",
       "      <td>764</td>\n",
       "      <td>163</td>\n",
       "    </tr>\n",
       "    <tr>\n",
       "      <th>491</th>\n",
       "      <td>1</td>\n",
       "      <td>3.0</td>\n",
       "      <td>2.0</td>\n",
       "      <td>995000</td>\n",
       "      <td>1956</td>\n",
       "      <td>1305</td>\n",
       "      <td>762</td>\n",
       "      <td>216</td>\n",
       "    </tr>\n",
       "  </tbody>\n",
       "</table>\n",
       "<p>492 rows × 8 columns</p>\n",
       "</div>"
      ],
      "text/plain": [
       "     in_sf  beds  bath    price  year_built  sqft  price_per_sqft  elevation\n",
       "0        0   2.0   1.0   999000        1960  1000             999         10\n",
       "1        0   2.0   2.0  2750000        2006  1418            1939          0\n",
       "2        0   2.0   2.0  1350000        1900  2150             628          9\n",
       "3        0   1.0   1.0   629000        1903   500            1258          9\n",
       "4        0   0.0   1.0   439000        1930   500             878         10\n",
       "..     ...   ...   ...      ...         ...   ...             ...        ...\n",
       "487      1   5.0   2.5  1800000        1890  3073             586         76\n",
       "488      1   2.0   1.0   695000        1923  1045             665        106\n",
       "489      1   3.0   2.0  1650000        1922  1483            1113        106\n",
       "490      1   1.0   1.0   649000        1983   850             764        163\n",
       "491      1   3.0   2.0   995000        1956  1305             762        216\n",
       "\n",
       "[492 rows x 8 columns]"
      ]
     },
     "execution_count": 11,
     "metadata": {},
     "output_type": "execute_result"
    }
   ],
   "source": [
    "df"
   ]
  },
  {
   "cell_type": "markdown",
   "metadata": {},
   "source": [
    "### 🔄 Change to Tensors and Normalize 🔄\n",
    "\n"
   ]
  },
  {
   "cell_type": "code",
   "execution_count": 12,
   "metadata": {},
   "outputs": [],
   "source": [
    "#split\n",
    "X_train, X_test, y_train, y_test = train_test_split(df.iloc[:, 1:].values, df.iloc[:, 0].values, test_size=0.2)\n",
    "\n",
    "# normalize X_train and X_test\n",
    "scaler_X = MinMaxScaler()\n",
    "X_train = torch.tensor(scaler_X.fit_transform(X_train), dtype=torch.float32)\n",
    "X_test = torch.tensor(scaler_X.transform(X_test), dtype=torch.float32)\n",
    "\n",
    "# tensorizer :) y_train and y_test\n",
    "y_train = torch.tensor(y_train.reshape(-1, 1), dtype=torch.float32)\n",
    "y_test = torch.tensor(y_test.reshape(-1, 1), dtype=torch.float32)"
   ]
  },
  {
   "cell_type": "markdown",
   "metadata": {},
   "source": [
    "### 📊 Building and Evaluating Three Models 📊\n",
    "\n",
    "We will now do 3 models: a lightweight small MLP, a very wide MLP, and a deep MLP. Now that we are trying to generalize, we will be plotting the test set loss along with the learning. 📉✨ At the end of each one, we will evaluate the F1 score. 🏅\n"
   ]
  },
  {
   "cell_type": "code",
   "execution_count": 30,
   "metadata": {},
   "outputs": [],
   "source": [
    "class MLP(nn.Module):\n",
    "    def __init__(self):\n",
    "        super(MLP, self).__init__()\n",
    "        self.l0 = nn.Linear(7,5)\n",
    "        self.relu0 = nn.ReLU()\n",
    "        self.l1 = nn.Linear(5,3)\n",
    "        self.relu1 = nn.ReLU()\n",
    "        self.l2 = nn.Linear(3,1)\n",
    "        self.out = nn.Sigmoid()\n",
    "\n",
    "    \n",
    "    def forward(self,X):\n",
    "        x = self.l0(X)\n",
    "        x = self.relu0(x)\n",
    "        x = self.l1(x)\n",
    "        x = self.relu1(x)\n",
    "        logits = self.l2(x)\n",
    "        x = self.out(logits)\n",
    "        return x\n",
    "    \n",
    "model = MLP()\n",
    "optimizer = torch.optim.Adam(params=model.parameters(), lr=0.001)\n",
    "criterion = nn.BCELoss()\n"
   ]
  },
  {
   "cell_type": "code",
   "execution_count": 31,
   "metadata": {},
   "outputs": [
    {
     "name": "stderr",
     "output_type": "stream",
     "text": [
      "100%|██████████| 20000/20000 [00:05<00:00, 3457.45it/s]\n"
     ]
    },
    {
     "data": {
      "image/png": "[encoded data removed]",
      "text/plain": [
       "<Figure size 640x480 with 1 Axes>"
      ]
     },
     "metadata": {},
     "output_type": "display_data"
    }
   ],
   "source": [
    "lossi = []\n",
    "devlossi = []\n",
    "\n",
    "for epoch in tqdm(range(20000)):\n",
    "    out = model.forward(X_train)\n",
    "\n",
    "    optimizer.zero_grad()\n",
    "    loss = criterion(out, y_train)\n",
    "\n",
    "    loss.backward()\n",
    "    lossi.append(loss.item())\n",
    "    optimizer.step()\n",
    "\n",
    "    #evaluate the test loss but with no gradients\n",
    "    with torch.no_grad():\n",
    "        devout = model.forward(X_test)\n",
    "        devloss  = criterion(devout, y_test)\n",
    "        devlossi.append(devloss.item())\n",
    "\n",
    "#plot the train loss and the test loss\n",
    "plt.plot(lossi, label='train')\n",
    "plt.plot(devlossi, label='test')\n",
    "plt.legend()\n",
    "plt.show()\n"
   ]
  },
  {
   "cell_type": "code",
   "execution_count": 32,
   "metadata": {},
   "outputs": [
    {
     "name": "stdout",
     "output_type": "stream",
     "text": [
      "lossi 0.42065903544425964\n",
      "devlossi 0.3352712094783783 \n",
      "\n",
      "              precision    recall  f1-score   support\n",
      "\n",
      "         0.0       0.92      0.89      0.90        53\n",
      "         1.0       0.88      0.91      0.89        46\n",
      "\n",
      "    accuracy                           0.90        99\n",
      "   macro avg       0.90      0.90      0.90        99\n",
      "weighted avg       0.90      0.90      0.90        99\n",
      "\n"
     ]
    }
   ],
   "source": [
    "#evaluation time\n",
    "print('lossi',min(lossi))\n",
    "print('devlossi',min(devlossi),'\\n')\n",
    "\n",
    "\n",
    "\n",
    "with torch.no_grad():\n",
    "    pred = model.forward(X_test)\n",
    "\n",
    "pred = pred.round() #our prediticons look like [.334, .638, .....] inorder to evalute we need them to be [0, 1, ....] so we round\n",
    "\n",
    "print(classification_report(y_true=y_test, y_pred=pred))"
   ]
  },
  {
   "cell_type": "markdown",
   "metadata": {},
   "source": [
    "### 🌐 Now for Our Very Wide Model 🌐\n"
   ]
  },
  {
   "cell_type": "code",
   "execution_count": 33,
   "metadata": {},
   "outputs": [],
   "source": [
    "import torch\n",
    "import torch.nn as nn\n",
    "\n",
    "class MLP(nn.Module):\n",
    "    def __init__(self):\n",
    "        super(MLP, self).__init__()\n",
    "        self.l0 = nn.Linear(7, 1024)  \n",
    "        self.relu0 = nn.ReLU()\n",
    "        self.l1 = nn.Linear(1024, 512)  \n",
    "        self.relu1 = nn.ReLU()\n",
    "        self.l2 = nn.Linear(512, 256) \n",
    "        self.relu2 = nn.ReLU()\n",
    "        self.l3 = nn.Linear(256, 128)\n",
    "        self.relu3 = nn.ReLU()\n",
    "        self.l4 = nn.Linear(128, 1)\n",
    "        self.out = nn.Sigmoid()\n",
    "\n",
    "    def forward(self, X):\n",
    "        x = self.l0(X)\n",
    "        x = self.relu0(x)\n",
    "        x = self.l1(x)\n",
    "        x = self.relu1(x)\n",
    "        x = self.l2(x)\n",
    "        x = self.relu2(x)\n",
    "        x = self.l3(x)\n",
    "        x = self.relu3(x)\n",
    "        logits = self.l4(x)\n",
    "        x = self.out(logits)\n",
    "        return x\n",
    "\n",
    "model = MLP()\n",
    "optimizer = torch.optim.Adam(params=model.parameters(), lr=0.001)\n",
    "criterion = nn.BCELoss()\n"
   ]
  },
  {
   "cell_type": "code",
   "execution_count": 34,
   "metadata": {},
   "outputs": [
    {
     "name": "stderr",
     "output_type": "stream",
     "text": [
      "100%|██████████| 20000/20000 [01:44<00:00, 191.54it/s]\n"
     ]
    },
    {
     "data": {
      "image/png": "[encoded data removed]",
      "text/plain": [
       "<Figure size 640x480 with 1 Axes>"
      ]
     },
     "metadata": {},
     "output_type": "display_data"
    }
   ],
   "source": [
    "lossi = []\n",
    "devlossi = []\n",
    "\n",
    "for epoch in tqdm(range(20000)):\n",
    "    out = model.forward(X_train)\n",
    "\n",
    "    optimizer.zero_grad()\n",
    "    loss = criterion(out, y_train)\n",
    "\n",
    "    loss.backward()\n",
    "    lossi.append(loss.item())\n",
    "    optimizer.step()\n",
    "    with torch.no_grad():\n",
    "        devout = model.forward(X_test)\n",
    "        devloss  = criterion(devout, y_test)\n",
    "        devlossi.append(devloss.item())\n",
    "\n",
    "plt.plot(lossi, label='train')\n",
    "plt.plot(devlossi, label='test')\n",
    "plt.legend()\n",
    "plt.show()\n",
    "\n"
   ]
  },
  {
   "cell_type": "code",
   "execution_count": 35,
   "metadata": {},
   "outputs": [
    {
     "name": "stdout",
     "output_type": "stream",
     "text": [
      "lossi 0.3428528308868408\n",
      "devlossi 0.3028780221939087 \n",
      "\n",
      "              precision    recall  f1-score   support\n",
      "\n",
      "         0.0       0.86      0.91      0.88        53\n",
      "         1.0       0.88      0.83      0.85        46\n",
      "\n",
      "    accuracy                           0.87        99\n",
      "   macro avg       0.87      0.87      0.87        99\n",
      "weighted avg       0.87      0.87      0.87        99\n",
      "\n"
     ]
    }
   ],
   "source": [
    "print('lossi',min(lossi))\n",
    "print('devlossi',min(devlossi),'\\n')\n",
    "\n",
    "\n",
    "\n",
    "with torch.no_grad():\n",
    "    pred = model.forward(X_test)\n",
    "\n",
    "pred = pred.round()\n",
    "\n",
    "print(classification_report(y_true=y_test, y_pred=pred))"
   ]
  },
  {
   "cell_type": "markdown",
   "metadata": {},
   "source": [
    "### 🏞️ Now for the Deep Model 🏞️\n",
    "\n",
    "\n",
    "\n",
    "\n"
   ]
  },
  {
   "cell_type": "code",
   "execution_count": 36,
   "metadata": {},
   "outputs": [],
   "source": [
    "\n",
    "class MLP(nn.Module):\n",
    "    def __init__(self):\n",
    "        super(MLP, self).__init__()\n",
    "        self.l0 = nn.Linear(7, 32)  \n",
    "        self.relu0 = nn.ReLU()\n",
    "        self.l1 = nn.Linear(32, 32)\n",
    "        self.relu1 = nn.ReLU()\n",
    "        self.l2 = nn.Linear(32, 32)\n",
    "        self.relu2 = nn.ReLU()\n",
    "        self.l3 = nn.Linear(32, 32)\n",
    "        self.relu3 = nn.ReLU()\n",
    "        self.l4 = nn.Linear(32, 32)\n",
    "        self.relu4 = nn.ReLU()\n",
    "        self.l5 = nn.Linear(32, 32)\n",
    "        self.relu5 = nn.ReLU()\n",
    "        self.l6 = nn.Linear(32, 1)\n",
    "        self.out = nn.Sigmoid()\n",
    "\n",
    "    def forward(self, X):\n",
    "        x = self.l0(X)\n",
    "        x = self.relu0(x)\n",
    "        x = self.l1(x)\n",
    "        x = self.relu1(x)\n",
    "        x = self.l2(x)\n",
    "        x = self.relu2(x)\n",
    "        x = self.l3(x)\n",
    "        x = self.relu3(x)\n",
    "        x = self.l4(x)\n",
    "        x = self.relu4(x)\n",
    "        x = self.l5(x)\n",
    "        x = self.relu5(x)\n",
    "        logits = self.l6(x)\n",
    "        x = self.out(logits)\n",
    "        return x\n",
    "\n",
    "model = MLP()\n",
    "optimizer = torch.optim.Adam(params=model.parameters(), lr=0.001)\n",
    "criterion = nn.BCELoss()"
   ]
  },
  {
   "cell_type": "code",
   "execution_count": 37,
   "metadata": {},
   "outputs": [
    {
     "name": "stderr",
     "output_type": "stream",
     "text": [
      "100%|██████████| 20000/20000 [00:13<00:00, 1466.45it/s]\n"
     ]
    },
    {
     "data": {
      "image/png": "[encoded data removed]",
      "text/plain": [
       "<Figure size 640x480 with 1 Axes>"
      ]
     },
     "metadata": {},
     "output_type": "display_data"
    }
   ],
   "source": [
    "lossi = []\n",
    "devlossi = []\n",
    "\n",
    "for epoch in tqdm(range(20000)):\n",
    "    out = model.forward(X_train)\n",
    "\n",
    "    optimizer.zero_grad()\n",
    "    loss = criterion(out, y_train)\n",
    "\n",
    "    loss.backward()\n",
    "    lossi.append(loss.item())\n",
    "    optimizer.step()\n",
    "    with torch.no_grad():\n",
    "        devout = model.forward(X_test)\n",
    "        devloss  = criterion(devout, y_test)\n",
    "        devlossi.append(devloss.item())\n",
    "\n",
    "plt.plot(lossi, label='train')\n",
    "plt.plot(devlossi, label='test')\n",
    "plt.legend()\n",
    "plt.show()\n"
   ]
  },
  {
   "cell_type": "code",
   "execution_count": 38,
   "metadata": {},
   "outputs": [
    {
     "name": "stdout",
     "output_type": "stream",
     "text": [
      "lossi 0.3620997965335846\n",
      "devlossi 0.300837904214859 \n",
      "\n",
      "              precision    recall  f1-score   support\n",
      "\n",
      "         0.0       0.92      0.85      0.88        53\n",
      "         1.0       0.84      0.91      0.88        46\n",
      "\n",
      "    accuracy                           0.88        99\n",
      "   macro avg       0.88      0.88      0.88        99\n",
      "weighted avg       0.88      0.88      0.88        99\n",
      "\n"
     ]
    }
   ],
   "source": [
    "print('lossi',min(lossi))\n",
    "print('devlossi',min(devlossi),'\\n')\n",
    "\n",
    "\n",
    "\n",
    "with torch.no_grad():\n",
    "    pred = model.forward(X_test)\n",
    "\n",
    "pred = pred.round()\n",
    "\n",
    "print(classification_report(y_true=y_test, y_pred=pred))"
   ]
  },
  {
   "cell_type": "markdown",
   "metadata": {},
   "source": [
    "### **Great, now we've got our results, let's think and see what we learned!** \n",
    "\n",
    "**Lesson 01.0: Best Model Selection** \n",
    "\n",
    "First, it's important to note that a proper training loop would evaluate the forward pass on the dev set (**validation set**). If the dev set loss is lower than the test set loss, **save that model** as the new best model 🤌.    Currently, we're only evaluating the last model❌, which might not always be the best.  If we saved the best model, we'd have the one where the dev set loss starts to go back up (**overfitting**). \n",
    "\n",
    "**Lesson 01.1: Deeper vs. Wider Models** ⚖️\n",
    "\n",
    "Deeper models are generally better than wider ones, but most importantly, follow the principle of Occam's Razor 🗡️(**all else equal the simplest solution is the best**).  As you can see, the bigger models took longer to train (**especially the wider one**),  and had worse results👎, which might be puzzling. We might think bigger models could learn more complex relationships and find a better solution 🤷.  While that's true, the loss surface of a big model is huge, and it has to traverse much more space to find the optimal solution 👨‍🦯‍➡️. So, given enough time and training examples, our bigger models would do better, but at a cost of time and computational resources.  It's sufficient to say the first model was the better one.  \n",
    "\n",
    "**Lesson 01.2: Become One with the Data** ☯️☯️ \n",
    "\n",
    "This might seem like a bonus lesson, but it's really foundational (*should be Lesson -1*).  If you've been learning about neural networks for a bit, you've probably seen that the test loss is often worse than the training loss.  This means the model you just trained is having trouble generalizing to unseen data. This is such a common issue that two big areas of research in neural networks are:\n",
    "\n",
    "1. **Optimization:** How do we find the best minimum in our loss surface? \n",
    "2. **Regularization:**  How do we make our model generalize well to new data and not just memorize the training set?  \n",
    "\n",
    "So, given that generalization is such a crucial issue, how is it that sometimes our test set is doing better than the training set?  "
   ]
  },
  {
   "cell_type": "markdown",
   "metadata": {},
   "source": [
    "\n",
    "### What did we forget to do? Let's explore that next!\n",
    "\n",
    "**Let's resample the data and see what happens!**  \n",
    "\n",
    "We'll use the same model architecture for now, but let's just shuffle the data and see if it makes a difference  .  This might seem like a simple step, but it's crucial!  \n"
   ]
  },
  {
   "cell_type": "code",
   "execution_count": 43,
   "metadata": {},
   "outputs": [],
   "source": [
    "#split\n",
    "X_train, X_test, y_train, y_test = train_test_split(df.iloc[:, 1:].values, df.iloc[:, 0].values, test_size=0.2)\n",
    "\n",
    "# normalize X_train and X_test\n",
    "scaler_X = MinMaxScaler()\n",
    "X_train = torch.tensor(scaler_X.fit_transform(X_train), dtype=torch.float32)\n",
    "X_test = torch.tensor(scaler_X.transform(X_test), dtype=torch.float32)\n",
    "\n",
    "# tensorizer :) y_train and y_test\n",
    "y_train = torch.tensor(y_train.reshape(-1, 1), dtype=torch.float32)\n",
    "y_test = torch.tensor(y_test.reshape(-1, 1), dtype=torch.float32)"
   ]
  },
  {
   "cell_type": "code",
   "execution_count": 44,
   "metadata": {},
   "outputs": [],
   "source": [
    "class MLP(nn.Module):\n",
    "    def __init__(self):\n",
    "        super(MLP, self).__init__()\n",
    "        self.l0 = nn.Linear(7,5)\n",
    "        self.relu0 = nn.ReLU()\n",
    "        self.l1 = nn.Linear(5,3)\n",
    "        self.relu1 = nn.ReLU()\n",
    "        self.l2 = nn.Linear(3,1)\n",
    "        self.out = nn.Sigmoid()\n",
    "\n",
    "    \n",
    "    def forward(self,X):\n",
    "        x = self.l0(X)\n",
    "        x = self.relu0(x)\n",
    "        x = self.l1(x)\n",
    "        x = self.relu1(x)\n",
    "        logits = self.l2(x)\n",
    "        x = self.out(logits)\n",
    "        return x\n",
    "    \n",
    "model = MLP()\n",
    "optimizer = torch.optim.Adam(params=model.parameters(), lr=0.001)\n",
    "criterion = nn.BCELoss()"
   ]
  },
  {
   "cell_type": "code",
   "execution_count": 45,
   "metadata": {},
   "outputs": [
    {
     "name": "stderr",
     "output_type": "stream",
     "text": [
      "100%|██████████| 20000/20000 [00:05<00:00, 3484.52it/s]\n"
     ]
    },
    {
     "data": {
      "image/png": "[encoded data removed]",
      "text/plain": [
       "<Figure size 640x480 with 1 Axes>"
      ]
     },
     "metadata": {},
     "output_type": "display_data"
    }
   ],
   "source": [
    "lossi = []\n",
    "devlossi = []\n",
    "\n",
    "for epoch in tqdm(range(20000)):\n",
    "    out = model.forward(X_train)\n",
    "\n",
    "    optimizer.zero_grad()\n",
    "    loss = criterion(out, y_train)\n",
    "\n",
    "    loss.backward()\n",
    "    lossi.append(loss.item())\n",
    "    optimizer.step()\n",
    "\n",
    "    #evaluate the test loss but with no gradients\n",
    "    with torch.no_grad():\n",
    "        devout = model.forward(X_test)\n",
    "        devloss  = criterion(devout, y_test)\n",
    "        devlossi.append(devloss.item())\n",
    "\n",
    "#plot the train loss and the test loss\n",
    "plt.plot(lossi, label='train')\n",
    "plt.plot(devlossi, label='test')\n",
    "plt.legend()\n",
    "plt.show()\n"
   ]
  },
  {
   "cell_type": "code",
   "execution_count": 46,
   "metadata": {},
   "outputs": [
    {
     "name": "stdout",
     "output_type": "stream",
     "text": [
      "lossi 0.2606104016304016\n",
      "devlossi 0.32085976004600525 \n",
      "\n",
      "              precision    recall  f1-score   support\n",
      "\n",
      "         0.0       0.82      0.93      0.87        44\n",
      "         1.0       0.94      0.84      0.88        55\n",
      "\n",
      "    accuracy                           0.88        99\n",
      "   macro avg       0.88      0.88      0.88        99\n",
      "weighted avg       0.89      0.88      0.88        99\n",
      "\n"
     ]
    }
   ],
   "source": [
    "#evaluation time\n",
    "print('lossi',min(lossi))\n",
    "print('devlossi',min(devlossi),'\\n')\n",
    "\n",
    "\n",
    "\n",
    "with torch.no_grad():\n",
    "    pred = model.forward(X_test)\n",
    "\n",
    "pred = pred.round() #our prediticons look like [.334, .638, .....] inorder to evalute we need them to be [0, 1, ....] so we round\n",
    "\n",
    "print(classification_report(y_true=y_test, y_pred=pred))"
   ]
  },
  {
   "cell_type": "markdown",
   "metadata": {},
   "source": [
    "### 🔍 **Interesting! Same Architecture, Different Results** 🔍\n",
    "\n",
    "We used the same architecture and trained the model for the same number of epochs. The only thing that really changed was our training and test set. Note that since we reinitialized the model, the weights are different, meaning we found a different spot (minimum) in the loss surface. This might be less optimal, but let's gloss over that argument for now. Crucially, the training loss is now 0.26, compared to 0.42 before. This means we found a better spot in the loss surface to minimize the training loss this time. However, there's more to the story...\n"
   ]
  },
  {
   "attachments": {
    "overfit_loss.png": {
     "image/png": "[encoded data removed]"
    }
   },
   "cell_type": "markdown",
   "metadata": {},
   "source": [
    "We're doing worse on the test set now than before. This could be due to a few things, like **overfitting** on the training set. 🤔\n",
    "\n",
    "When overfitting occurs, your test loss curves often look like a **U** (see the image below). At a certain point, your test set starts to perform worse, but your training set keeps \"learning\" (the weights are just memorizing the training set, not generalizing to unseen data). 📉\n",
    "\n",
    "\n",
    "![overfit_loss.png](attachment:overfit_loss.png)\n",
    "\n",
    "\n",
    "\n",
    "But our loss curve doesn't look like that! Instead, our loss curve (look at the graph after the training loop) just keeps getting systematically worse on the test set. This is where we emphasize *Lesson -1*: **Become one with the data!** ☯️\n",
    "\n",
    "Our data is ~400-ish houses in San Francisco or New York City, each with 7 features. Let's plot the distribution of the elevation feature to see if there are any insights there... 📊"
   ]
  },
  {
   "cell_type": "code",
   "execution_count": 87,
   "metadata": {},
   "outputs": [
    {
     "data": {
      "image/png": "[encoded data removed]",
      "text/plain": [
       "<Figure size 640x480 with 1 Axes>"
      ]
     },
     "metadata": {},
     "output_type": "display_data"
    }
   ],
   "source": [
    "df_in_sf = df[df['in_sf'] == True]\n",
    "df_not_in_sf = df[df['in_sf'] == False]\n",
    "\n",
    "plt.figure()\n",
    "plt.hist(df_in_sf['elevation'], alpha=0.5, label='in_sf')\n",
    "plt.hist(df_not_in_sf['elevation'], alpha=0.5, label='in_nyc')\n",
    "plt.legend()\n",
    "plt.show()"
   ]
  },
  {
   "cell_type": "code",
   "execution_count": 138,
   "metadata": {},
   "outputs": [
    {
     "name": "stdout",
     "output_type": "stream",
     "text": [
      "SF has #121 under fifty elevation and #147 over fifty elevation.\n",
      "NYC has #221 under fifty elevation and #3 over fifty elevation.\n"
     ]
    }
   ],
   "source": [
    "#see how many in sf and nyc are under 50 elevation\n",
    "\n",
    "#first we get a series that true or false \n",
    "sf_under_50_series = (df['in_sf'] == 1) & (df['elevation'] <= 50)\n",
    "sf_over_50_series = (df['in_sf'] == 1) & (df['elevation'] > 50)\n",
    "\n",
    "nyc_under_50_series = (df['in_sf'] == 0) & (df['elevation'] <= 50)\n",
    "nyc_over_50_series = (df['in_sf'] == 0) & (df['elevation'] > 50)\n",
    "\n",
    "\n",
    "sf_under_50, nyc_under_50 = sf_under_50_series.sum() , nyc_under_50_series.sum()\n",
    "sf_over_50, nyc_over_50 = sf_over_50_series.sum() , nyc_over_50_series.sum()\n",
    "\n",
    "\n",
    "print(f'SF has #{sf_under_50} under fifty elevation and #{sf_over_50} over fifty elevation.\\nNYC has #{nyc_under_50} under fifty elevation and #{nyc_over_50} over fifty elevation.')"
   ]
  },
  {
   "cell_type": "markdown",
   "metadata": {},
   "source": [
    "### 💡 **Aha! This is Interesting!** 💡\n",
    "\n",
    "We can see that almost every house over 50 elevation is in San Francisco. That's a very easy split for the model to learn. 🌉\n",
    "\n",
    "If we split the training and test sets randomly, there's a chance the test set could have a lot of houses above 50 elevation (which are easy, since they're almost always in SF). The training set might then have many houses under 50 elevation (which are harder to classify). 🏡\n",
    "\n",
    "Let's put some random subsets of our data through the model and see the results...\n",
    "\n",
    "**Note:** We will be using the data we trained on, which is a big no-no, but we are not exploring the ability to generalize well right now. Instead, we are focusing on the need to understand your data well. 🧠📊"
   ]
  },
  {
   "cell_type": "code",
   "execution_count": 144,
   "metadata": {},
   "outputs": [
    {
     "name": "stdout",
     "output_type": "stream",
     "text": [
      "For the new test set:\n",
      "              precision    recall  f1-score   support\n",
      "\n",
      "         0.0       0.88      0.98      0.93        46\n",
      "         1.0       0.98      0.89      0.93        53\n",
      "\n",
      "    accuracy                           0.93        99\n",
      "   macro avg       0.93      0.93      0.93        99\n",
      "weighted avg       0.93      0.93      0.93        99\n",
      "\n"
     ]
    }
   ],
   "source": [
    "#split\n",
    "X_train, X_test, y_train, y_test = train_test_split(df.iloc[:, 1:].values, df.iloc[:, 0].values, test_size=0.2)\n",
    "\n",
    "# normalize X_train and X_test\n",
    "scaler_X = MinMaxScaler()\n",
    "X_train = torch.tensor(scaler_X.fit_transform(X_train), dtype=torch.float32)\n",
    "X_test = torch.tensor(scaler_X.transform(X_test), dtype=torch.float32)\n",
    "\n",
    "# tensorizer :) y_train and y_test\n",
    "y_train = torch.tensor(y_train.reshape(-1, 1), dtype=torch.float32)\n",
    "y_test = torch.tensor(y_test.reshape(-1, 1), dtype=torch.float32)\n",
    "\n",
    "with torch.no_grad():\n",
    "    pred = model.forward(X_test)\n",
    "\n",
    "pred = pred.round() \n",
    "\n",
    "print('For the new test set:')\n",
    "print(classification_report(y_true=y_test, y_pred=pred))"
   ]
  },
  {
   "cell_type": "markdown",
   "metadata": {},
   "source": [
    "### 🎉 Success with a Subset! 🎉\n",
    "\n",
    "Ok, so for this subset of the data, we did way better! 📈\n"
   ]
  },
  {
   "cell_type": "code",
   "execution_count": 242,
   "metadata": {},
   "outputs": [
    {
     "name": "stdout",
     "output_type": "stream",
     "text": [
      "For the new test set:\n",
      "              precision    recall  f1-score   support\n",
      "\n",
      "         0.0       0.71      0.91      0.80        35\n",
      "         1.0       0.94      0.80      0.86        64\n",
      "\n",
      "    accuracy                           0.84        99\n",
      "   macro avg       0.83      0.86      0.83        99\n",
      "weighted avg       0.86      0.84      0.84        99\n",
      "\n"
     ]
    }
   ],
   "source": [
    "#split\n",
    "X_train, X_test, y_train, y_test = train_test_split(df.iloc[:, 1:].values, df.iloc[:, 0].values, test_size=0.2)\n",
    "\n",
    "# normalize X_train and X_test\n",
    "scaler_X = MinMaxScaler()\n",
    "X_train = torch.tensor(scaler_X.fit_transform(X_train), dtype=torch.float32)\n",
    "X_test = torch.tensor(scaler_X.transform(X_test), dtype=torch.float32)\n",
    "\n",
    "# tensorizer :) y_train and y_test\n",
    "y_train = torch.tensor(y_train.reshape(-1, 1), dtype=torch.float32)\n",
    "y_test = torch.tensor(y_test.reshape(-1, 1), dtype=torch.float32)\n",
    "\n",
    "with torch.no_grad():\n",
    "    pred = model.forward(X_test)\n",
    "\n",
    "pred = pred.round() \n",
    "\n",
    "print('For the new test set:')\n",
    "print(classification_report(y_true=y_test, y_pred=pred))"
   ]
  },
  {
   "cell_type": "markdown",
   "metadata": {},
   "source": [
    "### 😲 Wow, This One Did Worse 😲\n",
    "\n",
    "Wow, but on this one, we did way worse. 📉"
   ]
  },
  {
   "cell_type": "markdown",
   "metadata": {},
   "source": [
    "### 🧠 Lessons Learned 🧠\n",
    "\n",
    "So the lesson here is that our model was doing some funky things, such as the test set performing better than the train set and the model having big variances depending on which samples we select. Now, these problems can arise for many reasons (e.g., too small of a test size with too much variance can cause it to evaluate funkily), but the point here is that the first step is to know your data well and become one with the data before starting to build models. \n",
    "\n",
    "Because we knew that our data had samples that were very easy and some very hard ones, and that there was a larger variation in the difficulty of the samples, we knew the issues we were running into. 🧩🔍\n",
    "\n",
    "> As the great Obi-Wan Kenobi said: \"Become one with the Force.\" Or in our case, become one with the data, deep learning jedis. 🧙‍♂️✨\n"
   ]
  }
 ],
 "metadata": {
  "kernelspec": {
   "display_name": "Python 3",
   "language": "python",
   "name": "python3"
  },
  "language_info": {
   "codemirror_mode": {
    "name": "ipython",
    "version": 3
   },
   "file_extension": ".py",
   "mimetype": "text/x-python",
   "name": "python",
   "nbconvert_exporter": "python",
   "pygments_lexer": "ipython3",
   "version": "3.11.5"
  }
 },
 "nbformat": 4,
 "nbformat_minor": 2
}
